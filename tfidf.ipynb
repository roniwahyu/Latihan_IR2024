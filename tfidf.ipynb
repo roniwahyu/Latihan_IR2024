{
 "cells": [
  {
   "cell_type": "code",
   "execution_count": 1,
   "metadata": {},
   "outputs": [
    {
     "name": "stdout",
     "output_type": "stream",
     "text": [
      "TF-IDF scores for term 'quick': [0.04505167867868493, 0.0, 0.0]\n",
      "BM25 scores for term 'quick': [0.07559518964728489, 0.0, 0.0]\n"
     ]
    }
   ],
   "source": [
    "import math\n",
    "\n",
    "# Sample documents\n",
    "documents = [\n",
    "    \"The quick brown fox jumps over the lazy dog.\",\n",
    "    \"The dog is fast and the cat is not.\",\n",
    "    \"Quick brown foxes leap over lazy dogs in summer.\"\n",
    "]\n",
    "\n",
    "# Step 1: Calculate term frequencies (TF)\n",
    "def calculate_tf(document, term):\n",
    "    term_count = document.count(term)\n",
    "    return term_count / len(document.split())\n",
    "\n",
    "# Step 2: Calculate inverse document frequencies (IDF)\n",
    "def calculate_idf(documents, term):\n",
    "    num_documents = len(documents)\n",
    "    num_documents_with_term = sum(1 for doc in documents if term in doc)\n",
    "    return math.log(num_documents / (1 + num_documents_with_term))\n",
    "\n",
    "# Step 3: Calculate TF-IDF\n",
    "def calculate_tfidf(documents, term):\n",
    "    idf = calculate_idf(documents, term)\n",
    "    tfs = [calculate_tf(doc, term) for doc in documents]\n",
    "    return [tf * idf for tf in tfs]\n",
    "\n",
    "# Step 4: Calculate BM25\n",
    "def calculate_bm25(documents, term, k1=1.2, b=0.75):\n",
    "    idf = calculate_idf(documents, term)\n",
    "    tfs = [calculate_tf(doc, term) for doc in documents]\n",
    "    average_doc_length = sum(len(doc.split()) for doc in documents) / len(documents)\n",
    "    bm25_scores = []\n",
    "    for tf, doc in zip(tfs, documents):\n",
    "        doc_length = len(doc.split())\n",
    "        numerator = tf * (k1 + 1)\n",
    "        denominator = tf + k1 * (1 - b + b * (doc_length / average_doc_length))\n",
    "        bm25_scores.append(idf * (numerator / denominator))\n",
    "    return bm25_scores\n",
    "\n",
    "# Example usage\n",
    "term = \"quick\"\n",
    "tfidf_scores = calculate_tfidf(documents, term)\n",
    "bm25_scores = calculate_bm25(documents, term)\n",
    "\n",
    "print(f\"TF-IDF scores for term '{term}': {tfidf_scores}\")\n",
    "print(f\"BM25 scores for term '{term}': {bm25_scores}\")"
   ]
  }
 ],
 "metadata": {
  "kernelspec": {
   "display_name": "Python 3",
   "language": "python",
   "name": "python3"
  },
  "language_info": {
   "codemirror_mode": {
    "name": "ipython",
    "version": 3
   },
   "file_extension": ".py",
   "mimetype": "text/x-python",
   "name": "python",
   "nbconvert_exporter": "python",
   "pygments_lexer": "ipython3",
   "version": "3.10.13"
  }
 },
 "nbformat": 4,
 "nbformat_minor": 2
}
